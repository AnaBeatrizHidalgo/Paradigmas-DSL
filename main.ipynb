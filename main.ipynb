{
 "cells": [
  {
   "cell_type": "markdown",
   "id": "67f5b809",
   "metadata": {},
   "source": [
    "Aqui vamos criar a dsl, coisas importantes de ter:\n",
    "- funções de ordem superior (recebendo funções como parâmetro e retornando funções);\n",
    "\n",
    "- closure;\n",
    "\n",
    "- macros higiênicas"
   ]
  },
  {
   "cell_type": "code",
   "execution_count": null,
   "id": "9100924d",
   "metadata": {
    "vscode": {
     "languageId": "shellscript"
    }
   },
   "outputs": [],
   "source": [
    "(define-macro funcao (parametros)\n",
    " (...) )"
   ]
  }
 ],
 "metadata": {
  "language_info": {
   "name": "python"
  }
 },
 "nbformat": 4,
 "nbformat_minor": 5
}
