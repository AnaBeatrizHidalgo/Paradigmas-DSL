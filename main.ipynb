{
 "cells": [
  {
   "cell_type": "code",
   "execution_count": 2,
   "id": "59600903",
   "metadata": {
    "trusted": true
   },
   "outputs": [],
   "source": [
    ";; Core Data Structures (using closures for encapsulation)\n",
    "\n",
    ";; Configuration builder - uses closure to accumulate state\n",
    "(define (make-config-builder)\n",
    "  (let ((grid-cfg '())\n",
    "        (functions '())\n",
    "        (kernels '())\n",
    "        (lifeforms '())\n",
    "        (simulation '())\n",
    "        (display-cfg '()))\n",
    "    (lambda (msg . args)\n",
    "      (cond\n",
    "        ((eq? msg 'set-grid!) (set! grid-cfg (car args)))\n",
    "        ((eq? msg 'add-function!) (set! functions (cons (car args) functions)))\n",
    "        ((eq? msg 'add-kernel!) (set! kernels (cons (car args) kernels)))\n",
    "        ((eq? msg 'add-lifeform!) (set! lifeforms (cons (car args) lifeforms)))\n",
    "        ((eq? msg 'set-simulation!) (set! simulation (car args)))\n",
    "        ((eq? msg 'set-display!) (set! display-cfg (car args)))\n",
    "        ((eq? msg 'build)\n",
    "         (list (cons 'grid grid-cfg)\n",
    "               (cons 'functions (reverse functions))\n",
    "               (cons 'kernels (reverse kernels))\n",
    "               (cons 'lifeforms (reverse lifeforms))\n",
    "               (cons 'simulation simulation)\n",
    "               (cons 'display display-cfg)))\n",
    "        (else '())))))\n",
    "\n",
    "(define (make-pair . xs) (cons (car xs) (cadr xs)))\n",
    "(define (alist-ref al k)\n",
    "  (let loop ((a al))\n",
    "    (if (null? a)\n",
    "        #f\n",
    "        (if (eq? (caar a) k) (cdar a) (loop (cdr a))))))\n",
    "\n",
    "(define (ensure-symbol x) (if (symbol? x) x (string->symbol x)))\n",
    "(define (ensure-string x) (if (string? x) x (symbol->string x)))"
   ]
  },
  {
   "cell_type": "code",
   "execution_count": 3,
   "id": "94572480",
   "metadata": {
    "trusted": true
   },
   "outputs": [],
   "source": [
    ";; Hygienic Macros for Declarative Syntax\n",
    "\n",
    ";; Main configuration macro - establishes the automaton context\n",
    "(define-syntax automaton\n",
    "  (syntax-rules (grid functions kernels lifeforms simulation display)\n",
    "    ((_ (grid w h)\n",
    "        (functions f ...)\n",
    "        (kernels k ...)\n",
    "        (lifeforms l ...)\n",
    "        (simulation s ...)\n",
    "        (display d ...))\n",
    "     (let ((b (make-config-builder)))\n",
    "       (begin\n",
    "         (b 'set-grid! (list (make-pair 'width w) (make-pair 'height h)))\n",
    "         (begin (b 'add-function! f) ...)\n",
    "         (begin (b 'add-kernel! k) ...)\n",
    "         (begin (b 'add-lifeform! l) ...)\n",
    "         (b 'set-simulation! (list s ...))\n",
    "         (b 'set-display! (list d ...))\n",
    "         (b 'build))))))"
   ]
  },
  {
   "cell_type": "code",
   "execution_count": 4,
   "id": "af3c0f13",
   "metadata": {
    "trusted": true
   },
   "outputs": [],
   "source": [
    ";; Function definition macro with pattern matching\n",
    "\n",
    "(define-syntax define-function\n",
    "  (syntax-rules (gaussian step lenia regression sigmoid tanh mean: \n",
    "                 sigma: growth: threshold: slope: mu: beta: a: b: c: \n",
    "                 k: x0: scale: bias:)\n",
    "\n",
    "    ((_ name (gaussian mean: m sigma: s growth: g))\n",
    "     (list (quote name) 'gaussian m s g))\n",
    "    ((_ name (step threshold: t slope: a))\n",
    "     (list (quote name) 'step t a))\n",
    "    ((_ name (lenia mu: m sigma: s beta: b))\n",
    "     (list (quote name) 'lenia m s b))\n",
    "    ((_ name (regression a: a b: b c: c))\n",
    "     (list (quote name) 'regression a b c))\n",
    "    ((_ name (sigmoid k: k x0: x0))\n",
    "     (list (quote name) 'sigmoid k x0))\n",
    "    ((_ name (tanh scale: s bias: b))\n",
    "     (list (quote name) 'tanh s b))))"
   ]
  },
  {
   "cell_type": "code",
   "execution_count": 5,
   "id": "1883efc2",
   "metadata": {
    "trusted": true
   },
   "outputs": [],
   "source": [
    ";; Kernel definition macro\n",
    "\n",
    "(define-syntax define-kernel\n",
    "  (syntax-rules (disk ring square blur: outer: inner: side: sigma: size: custom: radius:)\n",
    "    ((_ name (disk radius: r blur: (sigma: s size: sz)))\n",
    "     (list (quote name) 'disk r s sz))\n",
    "    ((_ name (ring outer: out inner: in blur: (sigma: s size: sz)))\n",
    "     (list (quote name) 'ring out in s sz))\n",
    "    ((_ name (square side: side blur: (sigma: s size: sz)))\n",
    "     (list (quote name) 'square side s sz #f))\n",
    "    ((_ name (square side: side blur: (sigma: s size: sz) custom: arr))\n",
    "     (list (quote name) 'square side s sz arr))))"
   ]
  },
  {
   "cell_type": "code",
   "execution_count": 6,
   "id": "5f1f400c",
   "metadata": {
    "trusted": true
   },
   "outputs": [],
   "source": [
    "; Not tested High order kernel operations\n",
    "\n",
    ";; Kernel combinator - creates composite kernels using operations\n",
    "(define (kernel-combinator op)\n",
    "  (lambda (k1 k2)\n",
    "    (list 'composite op k1 k2)))\n",
    "\n",
    ";; Specific kernel operators (curried combinators)\n",
    "(define kernel+ (kernel-combinator 'add))\n",
    "(define kernel- (kernel-combinator 'subtract))\n",
    "(define kernel* (kernel-combinator 'multiply))\n",
    "(define kernel/ (kernel-combinator 'divide))\n",
    "\n",
    ";; Scale kernel by constant (higher-order function)\n",
    "(define (scale-kernel factor)\n",
    "  (lambda (kernel)\n",
    "    (kernel* kernel factor)))\n",
    "\n",
    ";; Kernel reference (for reusing named kernels)\n",
    "(define (kernel-ref name)\n",
    "  (list 'ref name))\n",
    "\n",
    ";; Function reference (for reusing named functions)\n",
    "(define (function-ref name)\n",
    "  (list 'ref name))"
   ]
  },
  {
   "cell_type": "code",
   "execution_count": 7,
   "id": "9ae2716f",
   "metadata": {
    "trusted": true
   },
   "outputs": [],
   "source": [
    ";; Lifeform definition macro\n",
    "(define-syntax define-lifeform\n",
    "  (syntax-rules (color: initial: rules:)\n",
    "    ((_ name (color: col) (initial: init) (rules: r ...))\n",
    "     (list (quote name) (ensure-string col) (quote init) (list r ...)))))"
   ]
  },
  {
   "cell_type": "code",
   "execution_count": 8,
   "id": "8fae89eb",
   "metadata": {
    "trusted": true
   },
   "outputs": [],
   "source": [
    "(define-syntax rule\n",
    "  (syntax-rules (-> dt: kernel: function: weight:)\n",
    "    ((_ target -> (dt: dtv kernel: k function: f weight: w))\n",
    "     (list (quote target) dtv (quote k) (quote f) w))))"
   ]
  },
  {
   "cell_type": "code",
   "execution_count": 9,
   "id": "1fc84988",
   "metadata": {
    "trusted": true
   },
   "outputs": [],
   "source": [
    "(define-syntax dt\n",
    "  (syntax-rules ()\n",
    "    ((_ v) (cons 'dt v))))\n",
    "(define-syntax steps\n",
    "  (syntax-rules ()\n",
    "    ((_ v) (cons 'steps v))))\n",
    "(define-syntax seed\n",
    "  (syntax-rules ()\n",
    "    ((_ v) (cons 'seed v))))\n",
    "(define-syntax diffusion\n",
    "  (syntax-rules ()\n",
    "    ((_ v) (cons 'diffusion v))))\n",
    "\n",
    "(define-syntax window\n",
    "  (syntax-rules ()\n",
    "    ((_ v) (cons 'window (quote v)))))\n",
    "(define-syntax fps\n",
    "  (syntax-rules ()\n",
    "    ((_ v) (cons 'fps v))))\n",
    "(define-syntax quit\n",
    "  (syntax-rules ()\n",
    "    ((_ v) (cons 'quit (quote v)))))\n",
    "(define-syntax scale\n",
    "  (syntax-rules ()\n",
    "    ((_ v) (cons 'scale v))))"
   ]
  },
  {
   "cell_type": "code",
   "execution_count": 10,
   "id": "cc99cafa",
   "metadata": {
    "trusted": true
   },
   "outputs": [],
   "source": [
    "(define (yaml-str . xs) (apply string-append xs))\n",
    "(define (yaml-num n) (number->string n))\n",
    "(define (yaml-sym s) (symbol->string s))\n",
    "\n",
    "(define (yaml-indent n) (make-string n #\\space))\n",
    "(define (yaml-kv indent key val)\n",
    "  (yaml-str (yaml-indent indent) (ensure-string key) \": \" val \"\\n\"))"
   ]
  },
  {
   "cell_type": "markdown",
   "id": "989f7b75",
   "metadata": {},
   "source": [
    "Agora, uma série de funções tediosas que servem para escrever de maneira formatada o texto do arquivo .yml "
   ]
  },
  {
   "cell_type": "code",
   "execution_count": 11,
   "id": "febc8a4a",
   "metadata": {
    "trusted": true
   },
   "outputs": [],
   "source": [
    "(define (yaml-write-func-params type params)\n",
    "  (cond\n",
    "    ((eq? type 'gaussian)\n",
    "     (yaml-str \"    mean: \" (yaml-num (list-ref params 0)) \"\\n\"\n",
    "               \"    sigma: \" (yaml-num (list-ref params 1)) \"\\n\"\n",
    "               \"    growth: \" (yaml-num (list-ref params 2)) \"\\n\"))\n",
    "    ((eq? type 'step)\n",
    "     (yaml-str \"    threshold: \" (yaml-num (list-ref params 0)) \"\\n\"\n",
    "               \"    slope: \" (yaml-num (list-ref params 1)) \"\\n\"))\n",
    "    ((eq? type 'lenia)\n",
    "     (yaml-str \"    mu: \" (yaml-num (list-ref params 0)) \"\\n\"\n",
    "               \"    sigma: \" (yaml-num (list-ref params 1)) \"\\n\"\n",
    "               \"    beta: \" (yaml-num (list-ref params 2)) \"\\n\"))\n",
    "    ((eq? type 'regression)\n",
    "     (yaml-str \"    a: \" (yaml-num (list-ref params 0)) \"\\n\"\n",
    "               \"    b: \" (yaml-num (list-ref params 1)) \"\\n\"\n",
    "               \"    c: \" (yaml-num (list-ref params 2)) \"\\n\"))\n",
    "    ((eq? type 'sigmoid)\n",
    "     (yaml-str \"    k: \" (yaml-num (list-ref params 0)) \"\\n\"\n",
    "               \"    x0: \" (yaml-num (list-ref params 1)) \"\\n\"))\n",
    "    ((eq? type 'tanh)\n",
    "     (yaml-str \"    scale: \" (yaml-num (list-ref params 0)) \"\\n\"\n",
    "               \"    bias: \" (yaml-num (list-ref params 1)) \"\\n\"))\n",
    "    (else \"\")))\n",
    "\n",
    "(define (yaml-write-functions funcs)\n",
    "  (if (null? funcs)\n",
    "      \"\"\n",
    "      (apply string-append\n",
    "             (map (lambda (f)\n",
    "                    (let ((name (list-ref f 0))\n",
    "                          (type (list-ref f 1))\n",
    "                          (params (cddr f)))\n",
    "                      (yaml-str \"  \" (yaml-sym name) \":\\n\"\n",
    "                                \"    type: \" (yaml-sym type) \"\\n\"\n",
    "                                (yaml-write-func-params type params))))\n",
    "                  funcs))))"
   ]
  },
  {
   "cell_type": "code",
   "execution_count": 12,
   "id": "525c30ac",
   "metadata": {
    "trusted": true
   },
   "outputs": [],
   "source": [
    "(define (yaml-write-kernel-body type params)\n",
    "  (cond\n",
    "    ((eq? type 'disk)\n",
    "     (yaml-str \"    type: disk\\n\"\n",
    "               \"    radius: \" (yaml-num (list-ref params 0)) \"\\n\"\n",
    "               \"    gaussian_sigma: \" (yaml-num (list-ref params 1)) \"\\n\"\n",
    "               \"    gaussian_kernel_size: \" (yaml-num (list-ref params 2)) \"\\n\"))\n",
    "    ((eq? type 'ring)\n",
    "     (yaml-str \"    type: ring\\n\"\n",
    "               \"    outer_diameter: \" (yaml-num (list-ref params 0)) \"\\n\"\n",
    "               \"    inner_diameter: \" (yaml-num (list-ref params 1)) \"\\n\"\n",
    "               \"    gaussian_sigma: \" (yaml-num (list-ref params 2)) \"\\n\"\n",
    "               \"    gaussian_kernel_size: \" (yaml-num (list-ref params 3)) \"\\n\"))\n",
    "    ((eq? type 'square)\n",
    "     (let ((side (list-ref params 0))\n",
    "           (sigma (list-ref params 1))\n",
    "           (ksz (list-ref params 2))\n",
    "           (arr (list-ref params 3)))\n",
    "       (yaml-str \"    type: square\\n\"\n",
    "                 \"    side: \" (yaml-num side) \"\\n\"\n",
    "                 \"    gaussian_sigma: \" (yaml-num sigma) \"\\n\"\n",
    "                 \"    gaussian_kernel_size: \" (yaml-num ksz) \"\\n\"\n",
    "                 (if arr (yaml-str \"    custom_array: \" (ensure-string arr) \"\\n\") \"\"))))\n",
    "    (else \"\")))\n",
    "\n",
    "(define (yaml-write-kernels kernels)\n",
    "  (if (null? kernels)\n",
    "      \"\"\n",
    "      (apply string-append\n",
    "             (map (lambda (k)\n",
    "                    (let ((name (list-ref k 0))\n",
    "                          (type (list-ref k 1))\n",
    "                          (params (cddr k)))\n",
    "                      (yaml-str \"  \" (yaml-sym name) \":\\n\"\n",
    "                                (yaml-write-kernel-body type params))))\n",
    "                  kernels))))"
   ]
  },
  {
   "cell_type": "code",
   "execution_count": 13,
   "id": "72bb8752",
   "metadata": {
    "trusted": true
   },
   "outputs": [],
   "source": [
    "(define (yaml-write-rule r)\n",
    "  (let ((name (list-ref r 0))\n",
    "        (dt (list-ref r 1))\n",
    "        (kern (list-ref r 2))\n",
    "        (func (list-ref r 3))\n",
    "        (weight (list-ref r 4)))\n",
    "    (yaml-str \"      \" (yaml-sym name) \":\\n\"\n",
    "              \"        dt: \" (yaml-num dt) \"\\n\"\n",
    "              \"        kernel:\\n\"\n",
    "              \"          ref: \" (yaml-sym kern) \"\\n\"\n",
    "              \"        func:\\n\"\n",
    "              \"          ref: \" (yaml-sym func) \"\\n\"\n",
    "              \"        weight: \" (yaml-num weight) \"\\n\")))\n",
    "\n",
    "(define (yaml-write-rules rules)\n",
    "  (apply string-append (map yaml-write-rule rules)))\n",
    "\n",
    "(define (yaml-write-lifeforms lifes)\n",
    "  (if (null? lifes)\n",
    "      \"\"\n",
    "      (apply string-append\n",
    "             (map (lambda (life)\n",
    "                    (let ((name (list-ref life 0))\n",
    "                          (color (list-ref life 1))\n",
    "                          (initial (list-ref life 2))\n",
    "                          (rules (list-ref life 3)))\n",
    "                      (yaml-str \"  \" (yaml-sym name) \":\\n\"\n",
    "                                \"    color: \\\"\" color \"\\\"\\n\"\n",
    "                                \"    initial_state: \" (yaml-sym initial) \"\\n\"\n",
    "                                \"    rules:\\n\"\n",
    "                                (yaml-write-rules rules)\n",
    "                                \"\\n\")))\n",
    "                  lifes))))"
   ]
  },
  {
   "cell_type": "code",
   "execution_count": 14,
   "id": "f3504ce3",
   "metadata": {
    "trusted": true
   },
   "outputs": [],
   "source": [
    "(define (yaml-write-grid grid)\n",
    "  (if (null? grid)\n",
    "      \"\"\n",
    "      (let ((w (cdr (assq 'width grid)))\n",
    "            (h (cdr (assq 'height grid))))\n",
    "        (yaml-str \"  width: \" (yaml-num w) \"\\n\"\n",
    "                  \"  height: \" (yaml-num h) \"\\n\"))))"
   ]
  },
  {
   "cell_type": "code",
   "execution_count": 15,
   "id": "ac1d1f20",
   "metadata": {
    "trusted": true
   },
   "outputs": [],
   "source": [
    "(define (yaml-write-simulation sim)\n",
    "  (if (null? sim)\n",
    "      \"\"\n",
    "      (let loop ((rest sim) (acc \"\"))\n",
    "        (if (null? rest)\n",
    "            acc\n",
    "            (let* ((p (car rest))\n",
    "                   (k (car p))\n",
    "                   (v (cdr p)))\n",
    "              (loop (cdr rest)\n",
    "                    (string-append acc\n",
    "                      (case k\n",
    "                        ((dt) (yaml-kv 2 \"dt\" (yaml-num v)))\n",
    "                        ((steps) (yaml-kv 2 \"steps\" (yaml-num v)))\n",
    "                        ((seed) (yaml-kv 2 \"seed\" (yaml-num v)))\n",
    "                        ((diffusion) (yaml-kv 2 \"diffusion\" (yaml-num v)))\n",
    "                        (else (yaml-kv 2 (yaml-sym k) (ensure-string v)))))))))))"
   ]
  },
  {
   "cell_type": "code",
   "execution_count": 24,
   "id": "b07f3a18",
   "metadata": {
    "trusted": true
   },
   "outputs": [],
   "source": [
    "(define (yaml-write-display d)\n",
    "  (if (null? d)\n",
    "      \"\"\n",
    "      (let loop ((rest d) (acc \"\"))\n",
    "        (if (null? rest)\n",
    "            acc\n",
    "            (let* ((p (car rest))\n",
    "                   (k (car p))\n",
    "                   (v (cdr p)))\n",
    "              (loop (cdr rest)\n",
    "                    (string-append acc\n",
    "                      (case k\n",
    "                        ((window) (yaml-kv 2 \"window_name\" (yaml-sym v)))\n",
    "                        ((fps)\n",
    "                            (let ((n (if (list? v) (car v) v)))\n",
    "                                (yaml-kv 2 \"show_fps\" (if (> n 0) \"true\" \"false\"))))\n",
    "                        ((quit) (yaml-kv 2 \"quit_key\" (yaml-sym v)))\n",
    "                        (else (yaml-kv 2 (yaml-sym k) (ensure-string v)))))))))))"
   ]
  },
  {
   "cell_type": "code",
   "execution_count": 25,
   "id": "2c2d8974",
   "metadata": {
    "trusted": true
   },
   "outputs": [],
   "source": [
    "(define (yaml-write-top-section p)\n",
    "  (let ((section (car p))\n",
    "        (data (cdr p)))\n",
    "    (cond\n",
    "      ((eq? section 'grid) (string-append \"grid:\\n\" (yaml-write-grid data)))\n",
    "      ((eq? section 'functions) (string-append \"functions:\\n\" (yaml-write-functions data)))\n",
    "      ((eq? section 'kernels) (string-append \"kernels:\\n\" (yaml-write-kernels data)))\n",
    "      ((eq? section 'lifeforms) (string-append \"lifeforms:\\n\" (yaml-write-lifeforms data)))\n",
    "      ((eq? section 'simulation) (string-append \"simulation:\\n\" (yaml-write-simulation data)))\n",
    "      ((eq? section 'display) (string-append \"display:\\n\" (yaml-write-display data)))\n",
    "      (else \"\"))))\n",
    "\n",
    "(define (config->yaml config)\n",
    "  (apply string-append (map yaml-write-top-section config)))"
   ]
  },
  {
   "cell_type": "code",
   "execution_count": 26,
   "id": "67b8f195",
   "metadata": {
    "trusted": true
   },
   "outputs": [
    {
     "data": {
      "text/plain": [
       "DSL loaded.\n"
      ]
     },
     "execution_count": 26,
     "metadata": {
      "text/plain": "DSL loaded.\n"
     },
     "output_type": "execute_result"
    }
   ],
   "source": [
    "(define (show-config cfg)\n",
    "  (display (config->yaml cfg)))\n",
    "\n",
    "(display \"DSL loaded.\\n\")"
   ]
  },
  {
   "cell_type": "code",
   "execution_count": 27,
   "id": "37238234",
   "metadata": {
    "trusted": true
   },
   "outputs": [
    {
     "data": {
      "text/plain": [
       "grid:\n",
       "  width: 64\n",
       "  height: 64\n",
       "functions:\n",
       "  f1:\n",
       "    type: gaussian\n",
       "    mean: 0.5\n",
       "    sigma: 0.15\n",
       "    growth: 1.0\n",
       "  step1:\n",
       "    type: step\n",
       "    threshold: 0.4\n",
       "    slope: 12\n",
       "kernels:\n",
       "  k1:\n",
       "    type: disk\n",
       "    radius: 3\n",
       "    gaussian_sigma: 1\n",
       "    gaussian_kernel_size: 5\n",
       "  k2:\n",
       "    type: ring\n",
       "    outer_diameter: 5\n",
       "    inner_diameter: 2\n",
       "    gaussian_sigma: 1\n",
       "    gaussian_kernel_size: 5\n",
       "lifeforms:\n",
       "  amoeba:\n",
       "    color: \"green\"\n",
       "    initial_state: random\n",
       "    rules:\n",
       "      A:\n",
       "        dt: 0.05\n",
       "        kernel:\n",
       "          ref: k1\n",
       "        func:\n",
       "          ref: f1\n",
       "        weight: 1.0\n",
       "      B:\n",
       "        dt: 0.05\n",
       "        kernel:\n",
       "          ref: k2\n",
       "        func:\n",
       "          ref: step1\n",
       "        weight: 0.6\n",
       "\n",
       "simulation:\n",
       "  dt: 0.05\n",
       "  steps: 1000\n",
       "  seed: 42\n",
       "display:\n",
       "  window_name: main\n",
       "  show_fps: true\n",
       "  quit_key: q\n"
      ]
     },
     "execution_count": 27,
     "metadata": {
      "text/plain": "grid:\n  width: 64\n  height: 64\nfunctions:\n  f1:\n    type: gaussian\n    mean: 0.5\n    sigma: 0.15\n    growth: 1.0\n  step1:\n    type: step\n    threshold: 0.4\n    slope: 12\nkernels:\n  k1:\n    type: disk\n    radius: 3\n    gaussian_sigma: 1\n    gaussian_kernel_size: 5\n  k2:\n    type: ring\n    outer_diameter: 5\n    inner_diameter: 2\n    gaussian_sigma: 1\n    gaussian_kernel_size: 5\nlifeforms:\n  amoeba:\n    color: \"green\"\n    initial_state: random\n    rules:\n      A:\n        dt: 0.05\n        kernel:\n          ref: k1\n        func:\n          ref: f1\n        weight: 1.0\n      B:\n        dt: 0.05\n        kernel:\n          ref: k2\n        func:\n          ref: step1\n        weight: 0.6\n\nsimulation:\n  dt: 0.05\n  steps: 1000\n  seed: 42\ndisplay:\n  window_name: main\n  show_fps: true\n  quit_key: q\n"
     },
     "output_type": "execute_result"
    }
   ],
   "source": [
    "; Teste de escrita de configuração\n",
    "\n",
    "(define cfg\n",
    "  (automaton\n",
    "    (grid 64 64)\n",
    "    (functions\n",
    "      (define-function f1 (gaussian mean: 0.5 sigma: 0.15 growth: 1.0))\n",
    "      (define-function step1 (step threshold: 0.4 slope: 12)))\n",
    "    (kernels\n",
    "      (define-kernel k1 (disk radius: 3 blur: (sigma: 1 size: 5)))\n",
    "      (define-kernel k2 (ring outer: 5 inner: 2 blur: (sigma: 1 size: 5))))\n",
    "    (lifeforms\n",
    "      (define-lifeform amoeba\n",
    "        (color: \"green\")\n",
    "        (initial: random)\n",
    "        (rules:\n",
    "          (rule A -> (dt: 0.05 kernel: k1 function: f1 weight: 1.0))\n",
    "          (rule B -> (dt: 0.05 kernel: k2 function: step1 weight: 0.6)))))\n",
    "    (simulation\n",
    "      (dt 0.05)\n",
    "      (steps 1000)\n",
    "      (seed 42))\n",
    "    (display\n",
    "      (window main)\n",
    "      (fps 60)\n",
    "      (quit q))))\n",
    "\n",
    "(show-config cfg)"
   ]
  }
 ],
 "metadata": {
  "kernelspec": {
   "display_name": "Guile",
   "language": "scheme",
   "name": "guile"
  },
  "language_info": {
   "codemirror_mode": "scheme",
   "file_extension": ".scm",
   "mimetype": "application/x-scheme",
   "name": "guile",
   "pygments_lexer": "scheme",
   "version": "3.0.0"
  }
 },
 "nbformat": 4,
 "nbformat_minor": 5
}
